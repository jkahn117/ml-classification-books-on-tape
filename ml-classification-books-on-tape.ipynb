{
 "cells": [
  {
   "cell_type": "markdown",
   "metadata": {},
   "source": [
    "# Books on Tape\n",
    "\n",
    "In this project, we will attempt to classify audio books written by classic authors, Jane Austen and Charles Dickens."
   ]
  },
  {
   "cell_type": "markdown",
   "metadata": {},
   "source": [
    "## Prequisites and Preprocessing\n",
    "\n",
    "To begin, upload one each of an audio book by Austen and Dickens in MP3 format to an Amazon S3 bucket. The audio book MP3 files should be per chapter (i.e. each chapter in its own file).\n",
    "\n",
    "### Permissions and environment variables\n",
    "\n",
    "Next, configure SageMaker Execution Role to access other AWS resources, including:\n",
    "\n",
    "* Audio file bucket"
   ]
  },
  {
   "cell_type": "code",
   "execution_count": 5,
   "metadata": {},
   "outputs": [
    {
     "name": "stdout",
     "output_type": "stream",
     "text": [
      "arn:aws:iam::487757292854:role/service-role/AmazonSageMaker-ExecutionRole-20180321T112820\n",
      "CPU times: user 67.7 ms, sys: 3.84 ms, total: 71.6 ms\n",
      "Wall time: 137 ms\n"
     ]
    }
   ],
   "source": [
    "%%time\n",
    "\n",
    "import boto3\n",
    "import sagemaker\n",
    "from sagemaker import get_execution_role\n",
    "from sagemaker.amazon.amazon_estimator import get_image_uri\n",
    "\n",
    "role = get_execution_role()\n",
    "print(role)\n",
    "\n",
    "training_image = get_image_uri(boto3.Session().region_name, 'blazingtext')"
   ]
  },
  {
   "cell_type": "markdown",
   "metadata": {},
   "source": [
    "### Data Preparation\n",
    "\n",
    "Audio books have already been stored in Amazon S3 Bucket. To prepare data for analysis, use Amazon Transcribe to create labelled training and validation data."
   ]
  },
  {
   "cell_type": "code",
   "execution_count": 6,
   "metadata": {},
   "outputs": [
    {
     "name": "stdout",
     "output_type": "stream",
     "text": [
      "ml-classification-books-on-tape\n"
     ]
    }
   ],
   "source": [
    "# get the SageMaker session\n",
    "sess = sagemaker.Session()\n",
    "\n",
    "# operate in the default SageMaker bucket when generating output of Transcribe job\n",
    "sm_bucket = sess.default_bucket() # Replace with your own bucket name if needed\n",
    "print(bucket)\n",
    "prefix = 'transcribe'\n",
    "\n",
    "# identify where the Dickens and Austen book files are held\n",
    "mp3_bucket = 'ml-classification-books-on-tape'\n",
    "austen_book = 'austen_sense_and_sensibility'\n",
    "dickens_book = 'dickens_great_expectations'"
   ]
  },
  {
   "cell_type": "markdown",
   "metadata": {},
   "source": [
    "For each of Austen and Dickens, we need to grep for the list of MP3 files and start a Transcribe job for each. The output of the Transcribe job should be stored in a properly prefixed output directory in our SageMaker S3 bucket."
   ]
  },
  {
   "cell_type": "code",
   "execution_count": 8,
   "metadata": {},
   "outputs": [],
   "source": [
    "def start_transcribe_job(mp3_file):\n",
    "    transcribe = boto3.client('transcribe')\n",
    "    response = transcribe.start_transcription_job(\n",
    "        TranscriptionJobName=mp3_file,\n",
    "        LanguageCode='en-US',\n",
    "        MediaFormat='mp3',\n",
    "        Media={\n",
    "            MediaFileUri: 'https://s3-us-east-1.amazonaws.com/examplebucket/example.mp4'\n",
    "        },\n",
    "        OutputBucketName=sm_bucket\n",
    "    )\n",
    "    print('Transcribe job status: {}').format(response.TranscriptionJob.TranscriptionJobStatus)"
   ]
  },
  {
   "cell_type": "code",
   "execution_count": 9,
   "metadata": {},
   "outputs": [],
   "source": [
    "def list_mp3_objects_for(author_directory):\n",
    "    s3 = boto3.client('s3')\n",
    "    response = s3.list_objects(\n",
    "        Bucket=mp3_bucket,\n",
    "        Prefix=author_directory\n",
    "    )\n",
    "    print(response['Contents'])\n",
    "    return response.Contents"
   ]
  },
  {
   "cell_type": "code",
   "execution_count": 10,
   "metadata": {},
   "outputs": [
    {
     "name": "stdout",
     "output_type": "stream",
     "text": [
      "{'ResponseMetadata': {'RequestId': '40549C143EE3AFE5', 'HostId': 'PLWqr4R291Tp2EoyXGbh/eTlBiC6iQ9u24OQO0Wo1JBnUDSDXE3CRDvk/1EAGoWqzhkMH5BL0fs=', 'HTTPStatusCode': 200, 'HTTPHeaders': {'x-amz-id-2': 'PLWqr4R291Tp2EoyXGbh/eTlBiC6iQ9u24OQO0Wo1JBnUDSDXE3CRDvk/1EAGoWqzhkMH5BL0fs=', 'x-amz-request-id': '40549C143EE3AFE5', 'date': 'Tue, 22 Jan 2019 22:07:33 GMT', 'x-amz-bucket-region': 'us-east-2', 'content-type': 'application/xml', 'transfer-encoding': 'chunked', 'server': 'AmazonS3'}, 'RetryAttempts': 0}, 'IsTruncated': False, 'Marker': '', 'Contents': [{'Key': 'austen_sense_and_sensibility/senseandsensibility_01_austen_64kb.mp3', 'LastModified': datetime.datetime(2019, 1, 22, 21, 47, 47, tzinfo=tzlocal()), 'ETag': '\"30ae0ad2fbc32a5b55290554c1052049\"', 'Size': 4622964, 'StorageClass': 'STANDARD'}, {'Key': 'austen_sense_and_sensibility/senseandsensibility_02_austen_64kb.mp3', 'LastModified': datetime.datetime(2019, 1, 22, 21, 45, 47, tzinfo=tzlocal()), 'ETag': '\"7b9b3ada931aeb2301a5677923f06747\"', 'Size': 5460554, 'StorageClass': 'STANDARD'}, {'Key': 'austen_sense_and_sensibility/senseandsensibility_03_austen_64kb.mp3', 'LastModified': datetime.datetime(2019, 1, 22, 21, 46, 2, tzinfo=tzlocal()), 'ETag': '\"3bfd4048076475a60070abc2992ac1ba\"', 'Size': 4578242, 'StorageClass': 'STANDARD'}, {'Key': 'austen_sense_and_sensibility/senseandsensibility_04_austen_64kb.mp3', 'LastModified': datetime.datetime(2019, 1, 22, 21, 46, 52, tzinfo=tzlocal()), 'ETag': '\"989927f1f94608718598d14ae9c0f997\"', 'Size': 6444012, 'StorageClass': 'STANDARD'}, {'Key': 'austen_sense_and_sensibility/senseandsensibility_05_austen_64kb.mp3', 'LastModified': datetime.datetime(2019, 1, 22, 21, 45, 22, tzinfo=tzlocal()), 'ETag': '\"2cbc22415ec10d3edafdd1b070118e8e\"', 'Size': 3590605, 'StorageClass': 'STANDARD'}, {'Key': 'austen_sense_and_sensibility/senseandsensibility_06_austen_64kb.mp3', 'LastModified': datetime.datetime(2019, 1, 22, 21, 47, 45, tzinfo=tzlocal()), 'ETag': '\"db2b0df3da64428a15bb830108bcc2b0\"', 'Size': 3773671, 'StorageClass': 'STANDARD'}, {'Key': 'austen_sense_and_sensibility/senseandsensibility_07_austen_64kb.mp3', 'LastModified': datetime.datetime(2019, 1, 22, 21, 48, 40, tzinfo=tzlocal()), 'ETag': '\"00838fa10a0ef6a6ed164c336622d16b\"', 'Size': 3709305, 'StorageClass': 'STANDARD'}, {'Key': 'austen_sense_and_sensibility/senseandsensibility_08_austen_64kb.mp3', 'LastModified': datetime.datetime(2019, 1, 22, 21, 48, 45, tzinfo=tzlocal()), 'ETag': '\"bf1b2a247b7c183103259ad891daebf7\"', 'Size': 3641387, 'StorageClass': 'STANDARD'}, {'Key': 'austen_sense_and_sensibility/senseandsensibility_09_austen_64kb.mp3', 'LastModified': datetime.datetime(2019, 1, 22, 21, 48, 22, tzinfo=tzlocal()), 'ETag': '\"def5254359df362086f952d9e21aa37d\"', 'Size': 5145622, 'StorageClass': 'STANDARD'}, {'Key': 'austen_sense_and_sensibility/senseandsensibility_10_austen_64kb.mp3', 'LastModified': datetime.datetime(2019, 1, 22, 21, 48, 16, tzinfo=tzlocal()), 'ETag': '\"a5997cdd542b718935e63ac34b499670\"', 'Size': 6609524, 'StorageClass': 'STANDARD'}, {'Key': 'austen_sense_and_sensibility/senseandsensibility_11_austen_64kb.mp3', 'LastModified': datetime.datetime(2019, 1, 22, 21, 48, 41, tzinfo=tzlocal()), 'ETag': '\"f43627f780f326630a6b8eedf1457465\"', 'Size': 4106158, 'StorageClass': 'STANDARD'}, {'Key': 'austen_sense_and_sensibility/senseandsensibility_12_austen_64kb.mp3', 'LastModified': datetime.datetime(2019, 1, 22, 21, 46, 56, tzinfo=tzlocal()), 'ETag': '\"538be022a2e79695bd2957ea7b2f6d48\"', 'Size': 4560061, 'StorageClass': 'STANDARD'}, {'Key': 'austen_sense_and_sensibility/senseandsensibility_13_austen_64kb.mp3', 'LastModified': datetime.datetime(2019, 1, 22, 21, 45, 27, tzinfo=tzlocal()), 'ETag': '\"a812195e2cc08ac6c96e67e8b0b0aee4\"', 'Size': 6603046, 'StorageClass': 'STANDARD'}, {'Key': 'austen_sense_and_sensibility/senseandsensibility_14_austen_64kb.mp3', 'LastModified': datetime.datetime(2019, 1, 22, 21, 45, 36, tzinfo=tzlocal()), 'ETag': '\"03e492d12f2247b8d13f919cb248f50f\"', 'Size': 4216290, 'StorageClass': 'STANDARD'}, {'Key': 'austen_sense_and_sensibility/senseandsensibility_15_austen_64kb.mp3', 'LastModified': datetime.datetime(2019, 1, 22, 21, 45, 53, tzinfo=tzlocal()), 'ETag': '\"34fdaf764f625840397a751cd77f0110\"', 'Size': 8064858, 'StorageClass': 'STANDARD'}, {'Key': 'austen_sense_and_sensibility/senseandsensibility_16_austen_64kb.mp3', 'LastModified': datetime.datetime(2019, 1, 22, 21, 48, 53, tzinfo=tzlocal()), 'ETag': '\"733a27ab1debe5285364266d7ee61821\"', 'Size': 5838389, 'StorageClass': 'STANDARD'}, {'Key': 'austen_sense_and_sensibility/senseandsensibility_17_austen_64kb.mp3', 'LastModified': datetime.datetime(2019, 1, 22, 21, 47, 14, tzinfo=tzlocal()), 'ETag': '\"848e050c46bf1eda20bf247add1a9de3\"', 'Size': 4565704, 'StorageClass': 'STANDARD'}, {'Key': 'austen_sense_and_sensibility/senseandsensibility_18_austen_64kb.mp3', 'LastModified': datetime.datetime(2019, 1, 22, 21, 47, 30, tzinfo=tzlocal()), 'ETag': '\"6b1e449f220728c52e7b706efa8210a7\"', 'Size': 4154850, 'StorageClass': 'STANDARD'}, {'Key': 'austen_sense_and_sensibility/senseandsensibility_19_austen_64kb.mp3', 'LastModified': datetime.datetime(2019, 1, 22, 21, 48, 53, tzinfo=tzlocal()), 'ETag': '\"650aeabc22250126c23ab2bd39a6a3b2\"', 'Size': 7844176, 'StorageClass': 'STANDARD'}, {'Key': 'austen_sense_and_sensibility/senseandsensibility_20_austen_64kb.mp3', 'LastModified': datetime.datetime(2019, 1, 22, 21, 46, 45, tzinfo=tzlocal()), 'ETag': '\"62090da5a44a50837d9da2c870ab58c9\"', 'Size': 6762288, 'StorageClass': 'STANDARD'}, {'Key': 'austen_sense_and_sensibility/senseandsensibility_21_austen_64kb.mp3', 'LastModified': datetime.datetime(2019, 1, 22, 21, 45, 23, tzinfo=tzlocal()), 'ETag': '\"ed45a1dfa9b7af31c89f0dfbbd8bc7e4\"', 'Size': 8175199, 'StorageClass': 'STANDARD'}, {'Key': 'austen_sense_and_sensibility/senseandsensibility_22_austen_64kb.mp3', 'LastModified': datetime.datetime(2019, 1, 22, 21, 48, 6, tzinfo=tzlocal()), 'ETag': '\"ef805ffcb918a1d22ceaeb96afe613a5\"', 'Size': 7855878, 'StorageClass': 'STANDARD'}, {'Key': 'austen_sense_and_sensibility/senseandsensibility_23_austen_64kb.mp3', 'LastModified': datetime.datetime(2019, 1, 22, 21, 48, 35, tzinfo=tzlocal()), 'ETag': '\"037ffaefcd73fbb127fdfb5a49120d66\"', 'Size': 6991121, 'StorageClass': 'STANDARD'}, {'Key': 'austen_sense_and_sensibility/senseandsensibility_24_austen_64kb.mp3', 'LastModified': datetime.datetime(2019, 1, 22, 21, 49, 24, tzinfo=tzlocal()), 'ETag': '\"fbf1af6e6e5c759a36ba0278597acaa9\"', 'Size': 6250288, 'StorageClass': 'STANDARD'}, {'Key': 'austen_sense_and_sensibility/senseandsensibility_25_austen_64kb.mp3', 'LastModified': datetime.datetime(2019, 1, 22, 21, 47, 27, tzinfo=tzlocal()), 'ETag': '\"d4e481784b465aa1be67ea912483be74\"', 'Size': 6455506, 'StorageClass': 'STANDARD'}, {'Key': 'austen_sense_and_sensibility/senseandsensibility_26_austen_64kb.mp3', 'LastModified': datetime.datetime(2019, 1, 22, 21, 45, 46, tzinfo=tzlocal()), 'ETag': '\"a88f874d65d0739ad209bf8afb9e494b\"', 'Size': 6110481, 'StorageClass': 'STANDARD'}, {'Key': 'austen_sense_and_sensibility/senseandsensibility_27_austen_64kb.mp3', 'LastModified': datetime.datetime(2019, 1, 22, 21, 46, 3, tzinfo=tzlocal()), 'ETag': '\"e1b9320b04a9e3c9c777f26d056e5d83\"', 'Size': 5840897, 'StorageClass': 'STANDARD'}, {'Key': 'austen_sense_and_sensibility/senseandsensibility_28_austen_64kb.mp3', 'LastModified': datetime.datetime(2019, 1, 22, 21, 45, 52, tzinfo=tzlocal()), 'ETag': '\"218b2414cdd0908938e99bd2c0f9957a\"', 'Size': 3519761, 'StorageClass': 'STANDARD'}, {'Key': 'austen_sense_and_sensibility/senseandsensibility_29_austen_64kb.mp3', 'LastModified': datetime.datetime(2019, 1, 22, 21, 45, 32, tzinfo=tzlocal()), 'ETag': '\"8f21bd778764ce4b74142510efdcdcf7-2\"', 'Size': 10105335, 'StorageClass': 'STANDARD'}, {'Key': 'austen_sense_and_sensibility/senseandsensibility_30_austen_64kb.mp3', 'LastModified': datetime.datetime(2019, 1, 22, 21, 45, 37, tzinfo=tzlocal()), 'ETag': '\"90e8850c60e3df285f270f144a672c82\"', 'Size': 7457145, 'StorageClass': 'STANDARD'}, {'Key': 'austen_sense_and_sensibility/senseandsensibility_31_austen_64kb.mp3', 'LastModified': datetime.datetime(2019, 1, 22, 21, 45, 49, tzinfo=tzlocal()), 'ETag': '\"fe14ba1b85f24f5190c75814b07c5fbb-2\"', 'Size': 10017772, 'StorageClass': 'STANDARD'}, {'Key': 'austen_sense_and_sensibility/senseandsensibility_32_austen_64kb.mp3', 'LastModified': datetime.datetime(2019, 1, 22, 21, 48, 47, tzinfo=tzlocal()), 'ETag': '\"4e6597d796bbe2dd26da25d7271ff0f4\"', 'Size': 8242700, 'StorageClass': 'STANDARD'}, {'Key': 'austen_sense_and_sensibility/senseandsensibility_33_austen_64kb.mp3', 'LastModified': datetime.datetime(2019, 1, 22, 21, 47, 6, tzinfo=tzlocal()), 'ETag': '\"fc1cb0b1910cbb3e5ccd4935f8fbb670-2\"', 'Size': 9472962, 'StorageClass': 'STANDARD'}, {'Key': 'austen_sense_and_sensibility/senseandsensibility_34_austen_64kb.mp3', 'LastModified': datetime.datetime(2019, 1, 22, 21, 48, 23, tzinfo=tzlocal()), 'ETag': '\"56f99ff01f3fd30aabf0222f69a8d4b0\"', 'Size': 8203202, 'StorageClass': 'STANDARD'}, {'Key': 'austen_sense_and_sensibility/senseandsensibility_35_austen_64kb.mp3', 'LastModified': datetime.datetime(2019, 1, 22, 21, 48, 46, tzinfo=tzlocal()), 'ETag': '\"422abcdb2806a645dcadc28845b0323d\"', 'Size': 6920904, 'StorageClass': 'STANDARD'}, {'Key': 'austen_sense_and_sensibility/senseandsensibility_36_austen_64kb.mp3', 'LastModified': datetime.datetime(2019, 1, 22, 21, 46, 53, tzinfo=tzlocal()), 'ETag': '\"fd7487ec475dcde8d58ada579bf85e1e-2\"', 'Size': 8406958, 'StorageClass': 'STANDARD'}, {'Key': 'austen_sense_and_sensibility/senseandsensibility_37_austen_64kb.mp3', 'LastModified': datetime.datetime(2019, 1, 22, 21, 45, 24, tzinfo=tzlocal()), 'ETag': '\"a31a6cb566cb78d631c14141588ff618-2\"', 'Size': 13821619, 'StorageClass': 'STANDARD'}, {'Key': 'austen_sense_and_sensibility/senseandsensibility_38_austen_64kb.mp3', 'LastModified': datetime.datetime(2019, 1, 22, 21, 45, 24, tzinfo=tzlocal()), 'ETag': '\"b7089a43890c9f9bb80a5e6f3b08fb93-2\"', 'Size': 9090112, 'StorageClass': 'STANDARD'}, {'Key': 'austen_sense_and_sensibility/senseandsensibility_39_austen_64kb.mp3', 'LastModified': datetime.datetime(2019, 1, 22, 21, 46, 52, tzinfo=tzlocal()), 'ETag': '\"df3c07dc38b702c400b540f2c00efa39\"', 'Size': 5523875, 'StorageClass': 'STANDARD'}, {'Key': 'austen_sense_and_sensibility/senseandsensibility_40_austen_64kb.mp3', 'LastModified': datetime.datetime(2019, 1, 22, 21, 48, 22, tzinfo=tzlocal()), 'ETag': '\"93af30ca8604caddf6c8b2c1139f8ef5\"', 'Size': 6975656, 'StorageClass': 'STANDARD'}, {'Key': 'austen_sense_and_sensibility/senseandsensibility_41_austen_64kb.mp3', 'LastModified': datetime.datetime(2019, 1, 22, 21, 48, 6, tzinfo=tzlocal()), 'ETag': '\"89a86a6410d4c9c5c3f43529779e7050\"', 'Size': 7114419, 'StorageClass': 'STANDARD'}, {'Key': 'austen_sense_and_sensibility/senseandsensibility_42_austen_64kb.mp3', 'LastModified': datetime.datetime(2019, 1, 22, 21, 45, 22, tzinfo=tzlocal()), 'ETag': '\"dee02de37a135ed95ce37a90056a1830\"', 'Size': 5567761, 'StorageClass': 'STANDARD'}, {'Key': 'austen_sense_and_sensibility/senseandsensibility_43_austen_64kb.mp3', 'LastModified': datetime.datetime(2019, 1, 22, 21, 46, 53, tzinfo=tzlocal()), 'ETag': '\"af0320ac84889faba1774887b0a8b27a-2\"', 'Size': 10205018, 'StorageClass': 'STANDARD'}, {'Key': 'austen_sense_and_sensibility/senseandsensibility_44_austen_64kb.mp3', 'LastModified': datetime.datetime(2019, 1, 22, 21, 45, 58, tzinfo=tzlocal()), 'ETag': '\"9a3372402a7afbe38ea4c417ae4db2a2-2\"', 'Size': 16229691, 'StorageClass': 'STANDARD'}, {'Key': 'austen_sense_and_sensibility/senseandsensibility_45_austen_64kb.mp3', 'LastModified': datetime.datetime(2019, 1, 22, 21, 45, 47, tzinfo=tzlocal()), 'ETag': '\"ae4d6357cb86776a7535dbd0ccfe3978\"', 'Size': 6199088, 'StorageClass': 'STANDARD'}, {'Key': 'austen_sense_and_sensibility/senseandsensibility_46_austen_64kb.mp3', 'LastModified': datetime.datetime(2019, 1, 22, 21, 47, 43, tzinfo=tzlocal()), 'ETag': '\"c90d4e63cb36c743152860098a741515-2\"', 'Size': 10161132, 'StorageClass': 'STANDARD'}, {'Key': 'austen_sense_and_sensibility/senseandsensibility_47_austen_64kb.mp3', 'LastModified': datetime.datetime(2019, 1, 22, 21, 49, 1, tzinfo=tzlocal()), 'ETag': '\"9ab290bed79bb7d6f60b264476bbd374-2\"', 'Size': 8416989, 'StorageClass': 'STANDARD'}, {'Key': 'austen_sense_and_sensibility/senseandsensibility_48_austen_64kb.mp3', 'LastModified': datetime.datetime(2019, 1, 22, 21, 48, 52, tzinfo=tzlocal()), 'ETag': '\"86d608b995eb48f2be73c260f10aa4f1\"', 'Size': 4881054, 'StorageClass': 'STANDARD'}, {'Key': 'austen_sense_and_sensibility/senseandsensibility_49_austen_64kb.mp3', 'LastModified': datetime.datetime(2019, 1, 22, 21, 47, 6, tzinfo=tzlocal()), 'ETag': '\"2d66cd8eb70c6fe8df531765af2e03c2-2\"', 'Size': 13955366, 'StorageClass': 'STANDARD'}, {'Key': 'austen_sense_and_sensibility/senseandsensibility_50_austen_64kb.mp3', 'LastModified': datetime.datetime(2019, 1, 22, 21, 47, 14, tzinfo=tzlocal()), 'ETag': '\"e51569293a206a7a8f9e939eb2c33ba7-2\"', 'Size': 8679885, 'StorageClass': 'STANDARD'}], 'Name': 'ml-classification-books-on-tape', 'Prefix': 'austen_sense_and_sensibility', 'MaxKeys': 1000, 'EncodingType': 'url'}\n"
     ]
    },
    {
     "ename": "AttributeError",
     "evalue": "'dict' object has no attribute 'Contents'",
     "output_type": "error",
     "traceback": [
      "\u001b[0;31m---------------------------------------------------------------------------\u001b[0m",
      "\u001b[0;31mAttributeError\u001b[0m                            Traceback (most recent call last)",
      "\u001b[0;32m<ipython-input-10-d6deeee1b2ca>\u001b[0m in \u001b[0;36m<module>\u001b[0;34m()\u001b[0m\n\u001b[0;32m----> 1\u001b[0;31m \u001b[0mlist_mp3_objects_for\u001b[0m\u001b[0;34m(\u001b[0m\u001b[0mausten_book\u001b[0m\u001b[0;34m)\u001b[0m\u001b[0;34m\u001b[0m\u001b[0m\n\u001b[0m",
      "\u001b[0;32m<ipython-input-9-2b580cb9913f>\u001b[0m in \u001b[0;36mlist_mp3_objects_for\u001b[0;34m(author_directory)\u001b[0m\n\u001b[1;32m      6\u001b[0m     )\n\u001b[1;32m      7\u001b[0m     \u001b[0mprint\u001b[0m\u001b[0;34m(\u001b[0m\u001b[0mresponse\u001b[0m\u001b[0;34m)\u001b[0m\u001b[0;34m\u001b[0m\u001b[0m\n\u001b[0;32m----> 8\u001b[0;31m     \u001b[0;32mreturn\u001b[0m \u001b[0mresponse\u001b[0m\u001b[0;34m.\u001b[0m\u001b[0mContents\u001b[0m\u001b[0;34m\u001b[0m\u001b[0m\n\u001b[0m",
      "\u001b[0;31mAttributeError\u001b[0m: 'dict' object has no attribute 'Contents'"
     ]
    }
   ],
   "source": [
    "list_mp3_objects_for(austen_book)"
   ]
  },
  {
   "cell_type": "code",
   "execution_count": null,
   "metadata": {},
   "outputs": [],
   "source": []
  }
 ],
 "metadata": {
  "kernelspec": {
   "display_name": "conda_tensorflow_p36",
   "language": "python",
   "name": "conda_tensorflow_p36"
  },
  "language_info": {
   "codemirror_mode": {
    "name": "ipython",
    "version": 3
   },
   "file_extension": ".py",
   "mimetype": "text/x-python",
   "name": "python",
   "nbconvert_exporter": "python",
   "pygments_lexer": "ipython3",
   "version": "3.6.5"
  }
 },
 "nbformat": 4,
 "nbformat_minor": 2
}
