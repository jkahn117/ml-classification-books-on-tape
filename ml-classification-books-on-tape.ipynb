{
 "cells": [
  {
   "cell_type": "markdown",
   "metadata": {},
   "source": [
    "# Books on Tape\n",
    "\n",
    "In this project, we will attempt to classify audio books written by classic authors, Jane Austen and Charles Dickens."
   ]
  },
  {
   "cell_type": "markdown",
   "metadata": {},
   "source": [
    "## Prequisites and Preprocessing\n",
    "\n",
    "To begin, upload one each of an audio book by Austen and Dickens in MP3 format to an Amazon S3 bucket. The audio book MP3 files should be per chapter (i.e. each chapter in its own file).\n",
    "\n",
    "### Permissions and environment variables\n",
    "\n",
    "Next, configure SageMaker Execution Role to access other AWS resources, including:\n",
    "\n",
    "* Audio file bucket"
   ]
  },
  {
   "cell_type": "code",
   "execution_count": 5,
   "metadata": {},
   "outputs": [
    {
     "name": "stdout",
     "output_type": "stream",
     "text": [
      "arn:aws:iam::487757292854:role/service-role/AmazonSageMaker-ExecutionRole-20180321T112820\n",
      "CPU times: user 67.7 ms, sys: 3.84 ms, total: 71.6 ms\n",
      "Wall time: 137 ms\n"
     ]
    }
   ],
   "source": [
    "%%time\n",
    "\n",
    "import boto3\n",
    "import sagemaker\n",
    "from sagemaker import get_execution_role\n",
    "from sagemaker.amazon.amazon_estimator import get_image_uri\n",
    "\n",
    "role = get_execution_role()\n",
    "print(role)\n",
    "\n",
    "training_image = get_image_uri(boto3.Session().region_name, 'blazingtext')"
   ]
  },
  {
   "cell_type": "markdown",
   "metadata": {},
   "source": [
    "### Data Preparation\n",
    "\n",
    "Audio books have already been stored in Amazon S3 Bucket. To prepare data for analysis, use Amazon Transcribe to create labelled training and validation data."
   ]
  },
  {
   "cell_type": "code",
   "execution_count": 6,
   "metadata": {},
   "outputs": [
    {
     "name": "stdout",
     "output_type": "stream",
     "text": [
      "ml-classification-books-on-tape\n"
     ]
    }
   ],
   "source": [
    "# get the SageMaker session\n",
    "sess = sagemaker.Session()\n",
    "\n",
    "# operate in the default SageMaker bucket when generating output of Transcribe job\n",
    "sm_bucket = sess.default_bucket() # Replace with your own bucket name if needed\n",
    "print(bucket)\n",
    "prefix = 'transcribe'\n",
    "\n",
    "# identify where the Dickens and Austen book files are held\n",
    "mp3_bucket = 'ml-classification-books-on-tape'\n",
    "austen_book = 'austen_sense_and_sensibility'\n",
    "dickens_book = 'dickens_great_expectations'"
   ]
  },
  {
   "cell_type": "markdown",
   "metadata": {},
   "source": [
    "For each of Austen and Dickens, we need to grep for the list of MP3 files and start a Transcribe job for each. The output of the Transcribe job should be stored in a properly prefixed output directory in our SageMaker S3 bucket."
   ]
  },
  {
   "cell_type": "code",
   "execution_count": 8,
   "metadata": {},
   "outputs": [],
   "source": [
    "def start_transcribe_job(mp3_file):\n",
    "    transcribe = boto3.client('transcribe')\n",
    "    response = transcribe.start_transcription_job(\n",
    "        TranscriptionJobName=mp3_file,\n",
    "        LanguageCode='en-US',\n",
    "        MediaFormat='mp3',\n",
    "        Media={\n",
    "            MediaFileUri: 'https://s3-us-east-1.amazonaws.com/examplebucket/example.mp4'\n",
    "        },\n",
    "        OutputBucketName=sm_bucket\n",
    "    )\n",
    "    print('Transcribe job status: {}').format(response.TranscriptionJob.TranscriptionJobStatus)"
   ]
  },
  {
   "cell_type": "code",
   "execution_count": 11,
   "metadata": {},
   "outputs": [],
   "source": [
    "def list_mp3_objects_for(author_directory):\n",
    "    s3 = boto3.client('s3')\n",
    "    response = s3.list_objects(\n",
    "        Bucket=mp3_bucket,\n",
    "        Prefix=author_directory\n",
    "    )\n",
    "    \n",
    "    keys=[]\n",
    "    for obj in response['Contents']:\n",
    "        keys.append(obj['Key'])\n",
    "    \n",
    "    print(keys)\n",
    "    return keys"
   ]
  },
  {
   "cell_type": "code",
   "execution_count": 13,
   "metadata": {},
   "outputs": [
    {
     "name": "stdout",
     "output_type": "stream",
     "text": [
      "['austen_sense_and_sensibility/senseandsensibility_01_austen_64kb.mp3', 'austen_sense_and_sensibility/senseandsensibility_02_austen_64kb.mp3', 'austen_sense_and_sensibility/senseandsensibility_03_austen_64kb.mp3', 'austen_sense_and_sensibility/senseandsensibility_04_austen_64kb.mp3', 'austen_sense_and_sensibility/senseandsensibility_05_austen_64kb.mp3', 'austen_sense_and_sensibility/senseandsensibility_06_austen_64kb.mp3', 'austen_sense_and_sensibility/senseandsensibility_07_austen_64kb.mp3', 'austen_sense_and_sensibility/senseandsensibility_08_austen_64kb.mp3', 'austen_sense_and_sensibility/senseandsensibility_09_austen_64kb.mp3', 'austen_sense_and_sensibility/senseandsensibility_10_austen_64kb.mp3', 'austen_sense_and_sensibility/senseandsensibility_11_austen_64kb.mp3', 'austen_sense_and_sensibility/senseandsensibility_12_austen_64kb.mp3', 'austen_sense_and_sensibility/senseandsensibility_13_austen_64kb.mp3', 'austen_sense_and_sensibility/senseandsensibility_14_austen_64kb.mp3', 'austen_sense_and_sensibility/senseandsensibility_15_austen_64kb.mp3', 'austen_sense_and_sensibility/senseandsensibility_16_austen_64kb.mp3', 'austen_sense_and_sensibility/senseandsensibility_17_austen_64kb.mp3', 'austen_sense_and_sensibility/senseandsensibility_18_austen_64kb.mp3', 'austen_sense_and_sensibility/senseandsensibility_19_austen_64kb.mp3', 'austen_sense_and_sensibility/senseandsensibility_20_austen_64kb.mp3', 'austen_sense_and_sensibility/senseandsensibility_21_austen_64kb.mp3', 'austen_sense_and_sensibility/senseandsensibility_22_austen_64kb.mp3', 'austen_sense_and_sensibility/senseandsensibility_23_austen_64kb.mp3', 'austen_sense_and_sensibility/senseandsensibility_24_austen_64kb.mp3', 'austen_sense_and_sensibility/senseandsensibility_25_austen_64kb.mp3', 'austen_sense_and_sensibility/senseandsensibility_26_austen_64kb.mp3', 'austen_sense_and_sensibility/senseandsensibility_27_austen_64kb.mp3', 'austen_sense_and_sensibility/senseandsensibility_28_austen_64kb.mp3', 'austen_sense_and_sensibility/senseandsensibility_29_austen_64kb.mp3', 'austen_sense_and_sensibility/senseandsensibility_30_austen_64kb.mp3', 'austen_sense_and_sensibility/senseandsensibility_31_austen_64kb.mp3', 'austen_sense_and_sensibility/senseandsensibility_32_austen_64kb.mp3', 'austen_sense_and_sensibility/senseandsensibility_33_austen_64kb.mp3', 'austen_sense_and_sensibility/senseandsensibility_34_austen_64kb.mp3', 'austen_sense_and_sensibility/senseandsensibility_35_austen_64kb.mp3', 'austen_sense_and_sensibility/senseandsensibility_36_austen_64kb.mp3', 'austen_sense_and_sensibility/senseandsensibility_37_austen_64kb.mp3', 'austen_sense_and_sensibility/senseandsensibility_38_austen_64kb.mp3', 'austen_sense_and_sensibility/senseandsensibility_39_austen_64kb.mp3', 'austen_sense_and_sensibility/senseandsensibility_40_austen_64kb.mp3', 'austen_sense_and_sensibility/senseandsensibility_41_austen_64kb.mp3', 'austen_sense_and_sensibility/senseandsensibility_42_austen_64kb.mp3', 'austen_sense_and_sensibility/senseandsensibility_43_austen_64kb.mp3', 'austen_sense_and_sensibility/senseandsensibility_44_austen_64kb.mp3', 'austen_sense_and_sensibility/senseandsensibility_45_austen_64kb.mp3', 'austen_sense_and_sensibility/senseandsensibility_46_austen_64kb.mp3', 'austen_sense_and_sensibility/senseandsensibility_47_austen_64kb.mp3', 'austen_sense_and_sensibility/senseandsensibility_48_austen_64kb.mp3', 'austen_sense_and_sensibility/senseandsensibility_49_austen_64kb.mp3', 'austen_sense_and_sensibility/senseandsensibility_50_austen_64kb.mp3']\n"
     ]
    },
    {
     "data": {
      "text/plain": [
       "['austen_sense_and_sensibility/senseandsensibility_01_austen_64kb.mp3',\n",
       " 'austen_sense_and_sensibility/senseandsensibility_02_austen_64kb.mp3',\n",
       " 'austen_sense_and_sensibility/senseandsensibility_03_austen_64kb.mp3',\n",
       " 'austen_sense_and_sensibility/senseandsensibility_04_austen_64kb.mp3',\n",
       " 'austen_sense_and_sensibility/senseandsensibility_05_austen_64kb.mp3',\n",
       " 'austen_sense_and_sensibility/senseandsensibility_06_austen_64kb.mp3',\n",
       " 'austen_sense_and_sensibility/senseandsensibility_07_austen_64kb.mp3',\n",
       " 'austen_sense_and_sensibility/senseandsensibility_08_austen_64kb.mp3',\n",
       " 'austen_sense_and_sensibility/senseandsensibility_09_austen_64kb.mp3',\n",
       " 'austen_sense_and_sensibility/senseandsensibility_10_austen_64kb.mp3',\n",
       " 'austen_sense_and_sensibility/senseandsensibility_11_austen_64kb.mp3',\n",
       " 'austen_sense_and_sensibility/senseandsensibility_12_austen_64kb.mp3',\n",
       " 'austen_sense_and_sensibility/senseandsensibility_13_austen_64kb.mp3',\n",
       " 'austen_sense_and_sensibility/senseandsensibility_14_austen_64kb.mp3',\n",
       " 'austen_sense_and_sensibility/senseandsensibility_15_austen_64kb.mp3',\n",
       " 'austen_sense_and_sensibility/senseandsensibility_16_austen_64kb.mp3',\n",
       " 'austen_sense_and_sensibility/senseandsensibility_17_austen_64kb.mp3',\n",
       " 'austen_sense_and_sensibility/senseandsensibility_18_austen_64kb.mp3',\n",
       " 'austen_sense_and_sensibility/senseandsensibility_19_austen_64kb.mp3',\n",
       " 'austen_sense_and_sensibility/senseandsensibility_20_austen_64kb.mp3',\n",
       " 'austen_sense_and_sensibility/senseandsensibility_21_austen_64kb.mp3',\n",
       " 'austen_sense_and_sensibility/senseandsensibility_22_austen_64kb.mp3',\n",
       " 'austen_sense_and_sensibility/senseandsensibility_23_austen_64kb.mp3',\n",
       " 'austen_sense_and_sensibility/senseandsensibility_24_austen_64kb.mp3',\n",
       " 'austen_sense_and_sensibility/senseandsensibility_25_austen_64kb.mp3',\n",
       " 'austen_sense_and_sensibility/senseandsensibility_26_austen_64kb.mp3',\n",
       " 'austen_sense_and_sensibility/senseandsensibility_27_austen_64kb.mp3',\n",
       " 'austen_sense_and_sensibility/senseandsensibility_28_austen_64kb.mp3',\n",
       " 'austen_sense_and_sensibility/senseandsensibility_29_austen_64kb.mp3',\n",
       " 'austen_sense_and_sensibility/senseandsensibility_30_austen_64kb.mp3',\n",
       " 'austen_sense_and_sensibility/senseandsensibility_31_austen_64kb.mp3',\n",
       " 'austen_sense_and_sensibility/senseandsensibility_32_austen_64kb.mp3',\n",
       " 'austen_sense_and_sensibility/senseandsensibility_33_austen_64kb.mp3',\n",
       " 'austen_sense_and_sensibility/senseandsensibility_34_austen_64kb.mp3',\n",
       " 'austen_sense_and_sensibility/senseandsensibility_35_austen_64kb.mp3',\n",
       " 'austen_sense_and_sensibility/senseandsensibility_36_austen_64kb.mp3',\n",
       " 'austen_sense_and_sensibility/senseandsensibility_37_austen_64kb.mp3',\n",
       " 'austen_sense_and_sensibility/senseandsensibility_38_austen_64kb.mp3',\n",
       " 'austen_sense_and_sensibility/senseandsensibility_39_austen_64kb.mp3',\n",
       " 'austen_sense_and_sensibility/senseandsensibility_40_austen_64kb.mp3',\n",
       " 'austen_sense_and_sensibility/senseandsensibility_41_austen_64kb.mp3',\n",
       " 'austen_sense_and_sensibility/senseandsensibility_42_austen_64kb.mp3',\n",
       " 'austen_sense_and_sensibility/senseandsensibility_43_austen_64kb.mp3',\n",
       " 'austen_sense_and_sensibility/senseandsensibility_44_austen_64kb.mp3',\n",
       " 'austen_sense_and_sensibility/senseandsensibility_45_austen_64kb.mp3',\n",
       " 'austen_sense_and_sensibility/senseandsensibility_46_austen_64kb.mp3',\n",
       " 'austen_sense_and_sensibility/senseandsensibility_47_austen_64kb.mp3',\n",
       " 'austen_sense_and_sensibility/senseandsensibility_48_austen_64kb.mp3',\n",
       " 'austen_sense_and_sensibility/senseandsensibility_49_austen_64kb.mp3',\n",
       " 'austen_sense_and_sensibility/senseandsensibility_50_austen_64kb.mp3']"
      ]
     },
     "execution_count": 13,
     "metadata": {},
     "output_type": "execute_result"
    }
   ],
   "source": [
    "list_mp3_objects_for(austen_book)"
   ]
  },
  {
   "cell_type": "code",
   "execution_count": null,
   "metadata": {},
   "outputs": [],
   "source": []
  }
 ],
 "metadata": {
  "kernelspec": {
   "display_name": "conda_tensorflow_p36",
   "language": "python",
   "name": "conda_tensorflow_p36"
  },
  "language_info": {
   "codemirror_mode": {
    "name": "ipython",
    "version": 3
   },
   "file_extension": ".py",
   "mimetype": "text/x-python",
   "name": "python",
   "nbconvert_exporter": "python",
   "pygments_lexer": "ipython3",
   "version": "3.6.5"
  }
 },
 "nbformat": 4,
 "nbformat_minor": 2
}
