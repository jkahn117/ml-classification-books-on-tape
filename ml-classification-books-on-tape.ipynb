{
 "cells": [
  {
   "cell_type": "markdown",
   "metadata": {},
   "source": [
    "# Books on Tape\n",
    "\n",
    "In this project, we will attempt to classify audio books written by classic authors, Jane Austen and Charles Dickens."
   ]
  },
  {
   "cell_type": "markdown",
   "metadata": {},
   "source": [
    "## Prequisites and Preprocessing\n",
    "\n",
    "To begin, upload one each of an audio book by Austen and Dickens in MP3 format to an Amazon S3 bucket. The audio book MP3 files should be per chapter (i.e. each chapter in its own file).\n",
    "\n",
    "### Permissions and environment variables\n",
    "\n",
    "Next, configure SageMaker Execution Role to access other AWS resources, including:\n",
    "\n",
    "* Audio file bucket"
   ]
  },
  {
   "cell_type": "code",
   "execution_count": 1,
   "metadata": {},
   "outputs": [
    {
     "name": "stdout",
     "output_type": "stream",
     "text": [
      "arn:aws:iam::487757292854:role/service-role/AmazonSageMaker-ExecutionRole-20190122T171669\n",
      "CPU times: user 813 ms, sys: 201 ms, total: 1.01 s\n",
      "Wall time: 6.62 s\n"
     ]
    }
   ],
   "source": [
    "%%time\n",
    "\n",
    "import boto3\n",
    "import sagemaker\n",
    "from sagemaker import get_execution_role\n",
    "from sagemaker.amazon.amazon_estimator import get_image_uri\n",
    "\n",
    "role = get_execution_role()\n",
    "print(role)\n",
    "\n",
    "training_image = get_image_uri(boto3.Session().region_name, 'blazingtext')"
   ]
  },
  {
   "cell_type": "markdown",
   "metadata": {},
   "source": [
    "### Data Preparation\n",
    "\n",
    "Audio books have already been stored in Amazon S3 Bucket. To prepare data for analysis, use Amazon Transcribe to create labelled training and validation data."
   ]
  },
  {
   "cell_type": "code",
   "execution_count": 3,
   "metadata": {},
   "outputs": [
    {
     "name": "stdout",
     "output_type": "stream",
     "text": [
      "sagemaker-us-east-2-487757292854\n"
     ]
    }
   ],
   "source": [
    "# get the SageMaker session\n",
    "sess = sagemaker.Session()\n",
    "\n",
    "# operate in the default SageMaker bucket when generating output of Transcribe job\n",
    "sm_bucket = sess.default_bucket() # Replace with your own bucket name if needed\n",
    "print(sm_bucket)\n",
    "prefix = 'transcribe'\n",
    "\n",
    "# identify where the Dickens and Austen book files are held\n",
    "mp3_bucket = 'ml-classification-books-on-tape'\n",
    "austen_book = 'austen_sense_and_sensibility'\n",
    "dickens_book = 'dickens_great_expectations'"
   ]
  },
  {
   "cell_type": "markdown",
   "metadata": {},
   "source": [
    "For each of Austen and Dickens, we need to grep for the list of MP3 files and start a Transcribe job for each. The output of the Transcribe job should be stored in a properly prefixed output directory in our SageMaker S3 bucket."
   ]
  },
  {
   "cell_type": "code",
   "execution_count": 7,
   "metadata": {},
   "outputs": [],
   "source": [
    "# Builds the S3 URI for the passed mp3_file\n",
    "def media_file_uri(mp3_file):\n",
    "    return 'https://s3-{}.amazonaws.com/{}/{}'.format(\n",
    "        boto3.Session().region_name,\n",
    "        mp3_bucket,\n",
    "        mp3_file\n",
    "    )\n",
    "\n",
    "# Starts an Amazon Transcribe job for the passed mp3_file\n",
    "def start_transcribe_job(mp3_file):\n",
    "    transcribe = boto3.client('transcribe')\n",
    "    response = transcribe.start_transcription_job(\n",
    "        # need to remove the slash from job name\n",
    "        TranscriptionJobName=mp3_file.replace('/', '--'),\n",
    "        LanguageCode='en-US',\n",
    "        MediaFormat='mp3',\n",
    "        Media={\n",
    "            'MediaFileUri': media_file_uri(mp3_file)\n",
    "        },\n",
    "        OutputBucketName=sm_bucket\n",
    "    )\n",
    "    print('Transcribe job status: {}'.format(response['TranscriptionJob']['TranscriptionJobStatus']))"
   ]
  },
  {
   "cell_type": "code",
   "execution_count": 5,
   "metadata": {},
   "outputs": [],
   "source": [
    "# Returns an array of mp3 files in the specified prefix\n",
    "def get_mp3_objects_for(author_directory):\n",
    "    s3 = boto3.client('s3')\n",
    "    response = s3.list_objects(\n",
    "        Bucket=mp3_bucket,\n",
    "        Prefix=author_directory\n",
    "    )\n",
    "    \n",
    "    keys=[]\n",
    "    for obj in response['Contents']:\n",
    "        keys.append(obj['Key'])\n",
    "    \n",
    "    print('Found {} MP3 files in {}'.format(len(keys), author_directory))\n",
    "    return keys"
   ]
  },
  {
   "cell_type": "code",
   "execution_count": 8,
   "metadata": {},
   "outputs": [
    {
     "name": "stdout",
     "output_type": "stream",
     "text": [
      "Found 50 MP3 files in austen_sense_and_sensibility\n",
      "austen_sense_and_sensibility/senseandsensibility_01_austen_64kb.mp3\n",
      "Transcribe job status: IN_PROGRESS\n"
     ]
    }
   ],
   "source": [
    "# start with Jane Austen...\n",
    "austen_files = get_mp3_objects_for(austen_book)\n",
    "\n",
    "print(austen_files[0])\n",
    "start_transcribe_job(austen_files[0])"
   ]
  },
  {
   "cell_type": "code",
   "execution_count": null,
   "metadata": {},
   "outputs": [],
   "source": []
  }
 ],
 "metadata": {
  "kernelspec": {
   "display_name": "conda_tensorflow_p36",
   "language": "python",
   "name": "conda_tensorflow_p36"
  },
  "language_info": {
   "codemirror_mode": {
    "name": "ipython",
    "version": 3
   },
   "file_extension": ".py",
   "mimetype": "text/x-python",
   "name": "python",
   "nbconvert_exporter": "python",
   "pygments_lexer": "ipython3",
   "version": "3.6.5"
  }
 },
 "nbformat": 4,
 "nbformat_minor": 2
}
